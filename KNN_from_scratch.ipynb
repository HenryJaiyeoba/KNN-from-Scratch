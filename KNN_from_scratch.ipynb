{
 "cells": [
  {
   "cell_type": "code",
   "execution_count": 187,
   "metadata": {},
   "outputs": [],
   "source": [
    "import numpy as np \n",
    "import pandas as pd\n",
    "import statistics\n",
    "from sklearn.model_selection import train_test_split\n",
    "from sklearn.metrics import accuracy_score\n",
    "from sklearn.preprocessing import StandardScaler, LabelEncoder"
   ]
  },
  {
   "cell_type": "code",
   "execution_count": 188,
   "metadata": {},
   "outputs": [
    {
     "name": "stdout",
     "output_type": "stream",
     "text": [
      "        Brand   Model  Year  Engine_Size Fuel_Type    Transmission  Mileage  \\\n",
      "0         Kia     Rio  2020          4.2    Diesel          Manual   289944   \n",
      "1   Chevrolet  Malibu  2012          2.0    Hybrid       Automatic     5356   \n",
      "2    Mercedes     GLA  2020          4.2    Diesel       Automatic   231440   \n",
      "3        Audi      Q5  2023          2.0  Electric          Manual   160971   \n",
      "4  Volkswagen    Golf  2003          2.6    Hybrid  Semi-Automatic   286618   \n",
      "\n",
      "   Doors  Owner_Count  Price  \n",
      "0      3            5   8501  \n",
      "1      2            3  12092  \n",
      "2      4            2  11171  \n",
      "3      2            1  11780  \n",
      "4      3            3   2867  \n"
     ]
    }
   ],
   "source": [
    "df = pd.read_csv(\"car_price_dataset.csv\")\n",
    "print(df.head())"
   ]
  },
  {
   "cell_type": "code",
   "execution_count": 189,
   "metadata": {},
   "outputs": [],
   "source": [
    "# encoder\n",
    "label_encoders = {}\n",
    "cat_columns = [\"Brand\", \"Model\", \"Fuel_Type\", \"Transmission\"]\n",
    "\n",
    "for col in cat_columns:\n",
    "    lb_en = LabelEncoder()\n",
    "    df[col] = lb_en.fit_transform(df[col])\n",
    "    label_encoders[col] = lb_en"
   ]
  },
  {
   "cell_type": "code",
   "execution_count": 190,
   "metadata": {},
   "outputs": [],
   "source": [
    "X = df.drop([\"Price\"], axis=1)\n",
    "y = df[\"Price\"]"
   ]
  },
  {
   "cell_type": "code",
   "execution_count": 191,
   "metadata": {},
   "outputs": [],
   "source": [
    "# normalizer\n",
    "scaler = StandardScaler()\n",
    "X_scaled = scaler.fit_transform(X)"
   ]
  },
  {
   "cell_type": "code",
   "execution_count": 192,
   "metadata": {},
   "outputs": [],
   "source": [
    "X_train, X_test, y_train, y_test = train_test_split(X_scaled, y, test_size=0.2, random_state=42)"
   ]
  },
  {
   "cell_type": "code",
   "execution_count": 193,
   "metadata": {},
   "outputs": [],
   "source": [
    "# main functions i need: \n",
    "#  - calculate distance ( euclidean and manhattan)\n",
    "#  - get the nearest neighbours function\n",
    "#  - predict function"
   ]
  },
  {
   "cell_type": "code",
   "execution_count": 194,
   "metadata": {},
   "outputs": [],
   "source": [
    "class KNN_Classifier:\n",
    "    def __init__(self, distance_metric: str='euclidean', ):\n",
    "        self.distance_metric = distance_metric\n",
    "\n",
    "    def get_distance(self, training_dp, test_dp): #training_dp = [0,1,3]\n",
    "        if self.distance_metric == \"euclidean\":\n",
    "            # just mag of vec between points\n",
    "            distance: float= 0\n",
    "\n",
    "            for i in range(len(training_dp)):\n",
    "                distance += (training_dp[i] - test_dp[i])**2\n",
    "            euclidean_distance = np.sqrt(distance)\n",
    "            return euclidean_distance\n",
    "\n",
    "        elif self.distance_metric == \"manhattan\":\n",
    "            distance: float= 0\n",
    "            for i in range(len(training_dp)-1):\n",
    "                distance += np.abs(training_dp[i] - test_dp[i])\n",
    "            manhattan_distance = distance\n",
    "            return manhattan_distance\n",
    "        # add that last one later\n",
    "    \n",
    "    def get_nearest_neighbours(self, X_train,y_train, test_data,k: int=3 ):\n",
    "        distance_list = []\n",
    "        for i in range(len(X_train)-1):\n",
    "            distance = self.get_distance(X_train[i], test_data)\n",
    "            distance_list.append([y_train[i], distance])\n",
    "        distance_list.sort(key=lambda x: x[1])\n",
    "        return distance_list[:k]\n",
    "\n",
    "    def predict(self,X_train,y_train, test_data,k: int=3,d_type:int = 0  ):\n",
    "        neighbours = self.get_nearest_neighbours(X_train,y_train, test_data, k) # results, distance->mode of col 1\n",
    "        # get the mode of the neighbours list\n",
    "        if d_type == 0:#classify\n",
    "            results = [x[0] for x in neighbours]\n",
    "            prediction = statistics.mode(results)\n",
    "            return prediction\n",
    "        elif d_type == 1:#regress\n",
    "            results = [x[0] for x in neighbours]\n",
    "            prediction = np.mean(np.array(results))\n",
    "            return prediction\n",
    "    \n",
    "    def predict_all(self,X_train,y_train, test_data,k: int=3,d_type:int = 0):\n",
    "        predictions = []\n",
    "        for i in range(len(test_data)):\n",
    "            prediction = self.predict(X_train,y_train, test_data[i],k,d_type)\n",
    "            predictions.append(prediction)\n",
    "        return np.array(predictions)"
   ]
  },
  {
   "cell_type": "code",
   "execution_count": 195,
   "metadata": {},
   "outputs": [
    {
     "name": "stdout",
     "output_type": "stream",
     "text": [
      "(2000,)\n",
      "RMSE: 948.3909176131491\n"
     ]
    }
   ],
   "source": [
    "# testing it \n",
    "knn = KNN_Classifier(distance_metric=\"manhattan\")\n",
    "# X_test[0]\n",
    "# print(np.array(X_train).shape)\n",
    "# print(np.array(y_train).shape)\n",
    "# print(X_test.shape)\n",
    "pred = knn.predict_all(np.array(X_train), np.array(y_train),test_data=X_test,d_type=1)\n",
    "print(pred.shape)\n",
    "from sklearn.metrics import mean_squared_error\n",
    "rmse = np.sqrt(mean_squared_error(y_test, pred))\n",
    "print(\"RMSE:\", rmse)\n"
   ]
  }
 ],
 "metadata": {
  "kernelspec": {
   "display_name": "venv",
   "language": "python",
   "name": "python3"
  },
  "language_info": {
   "codemirror_mode": {
    "name": "ipython",
    "version": 3
   },
   "file_extension": ".py",
   "mimetype": "text/x-python",
   "name": "python",
   "nbconvert_exporter": "python",
   "pygments_lexer": "ipython3",
   "version": "3.13.0"
  }
 },
 "nbformat": 4,
 "nbformat_minor": 2
}
